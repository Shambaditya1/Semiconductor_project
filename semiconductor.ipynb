{
 "cells": [
  {
   "cell_type": "markdown",
   "id": "60dc4708-6568-498e-93ef-25d6df221fc4",
   "metadata": {},
   "source": [
    "# Semiconductor Manufacturing Process"
   ]
  },
  {
   "cell_type": "markdown",
   "id": "5997d3c7-162f-434e-81d2-2986399823fc",
   "metadata": {},
   "source": [
    "### Import Data"
   ]
  },
  {
   "cell_type": "code",
   "execution_count": null,
   "id": "6b5a40db-4f57-4bfd-a042-a126b75dca05",
   "metadata": {},
   "outputs": [],
   "source": [
    "import pandas as pd\n",
    "import numpy as np\n",
    "import matplotlib.pyplot as plt\n",
    "import seaborn as sns\n",
    "from sklearn.model_selection import train_test_split, GridSearchCV\n",
    "from sklearn.preprocessing import StandardScaler\n",
    "from sklearn.ensemble import RandomForestClassifier\n",
    "from sklearn.svm import SVC\n",
    "from sklearn.naive_bayes import GaussianNB\n",
    "from sklearn.metrics import classification_report, accuracy_score\n",
    "from imblearn.over_sampling import SMOTE\n",
    "import joblib"
   ]
  },
  {
   "cell_type": "markdown",
   "id": "143a0015-e625-40c9-9137-905fafe86592",
   "metadata": {},
   "source": [
    "### Load Dataset"
   ]
  },
  {
   "cell_type": "code",
   "execution_count": 7,
   "id": "f37eb4bf-9eaa-4af1-8501-f8a3ec713a71",
   "metadata": {},
   "outputs": [
    {
     "name": "stdout",
     "output_type": "stream",
     "text": [
      "<class 'pandas.core.frame.DataFrame'>\n",
      "RangeIndex: 1567 entries, 0 to 1566\n",
      "Columns: 592 entries, Time to Pass/Fail\n",
      "dtypes: float64(590), int64(1), object(1)\n",
      "memory usage: 7.1+ MB\n",
      "None\n",
      "                 0            1            2            3            4  \\\n",
      "count  1561.000000  1560.000000  1553.000000  1553.000000  1553.000000   \n",
      "mean   3014.452896  2495.850231  2200.547318  1396.376627     4.197013   \n",
      "std      73.621787    80.407705    29.513152   441.691640    56.355540   \n",
      "min    2743.240000  2158.750000  2060.660000     0.000000     0.681500   \n",
      "25%    2966.260000  2452.247500  2181.044400  1081.875800     1.017700   \n",
      "50%    3011.490000  2499.405000  2201.066700  1285.214400     1.316800   \n",
      "75%    3056.650000  2538.822500  2218.055500  1591.223500     1.525700   \n",
      "max    3356.350000  2846.440000  2315.266700  3715.041700  1114.536600   \n",
      "\n",
      "            5            6            7            8            9  ...  \\\n",
      "count  1553.0  1553.000000  1558.000000  1565.000000  1565.000000  ...   \n",
      "mean    100.0   101.112908     0.121822     1.462862    -0.000841  ...   \n",
      "std       0.0     6.237214     0.008961     0.073897     0.015116  ...   \n",
      "min     100.0    82.131100     0.000000     1.191000    -0.053400  ...   \n",
      "25%     100.0    97.920000     0.121100     1.411200    -0.010800  ...   \n",
      "50%     100.0   101.512200     0.122400     1.461600    -0.001300  ...   \n",
      "75%     100.0   104.586700     0.123800     1.516900     0.008400  ...   \n",
      "max     100.0   129.252200     0.128600     1.656400     0.074900  ...   \n",
      "\n",
      "              581          582          583          584          585  \\\n",
      "count  618.000000  1566.000000  1566.000000  1566.000000  1566.000000   \n",
      "mean    97.934373     0.500096     0.015318     0.003847     3.067826   \n",
      "std     87.520966     0.003404     0.017180     0.003720     3.578033   \n",
      "min      0.000000     0.477800     0.006000     0.001700     1.197500   \n",
      "25%     46.184900     0.497900     0.011600     0.003100     2.306500   \n",
      "50%     72.288900     0.500200     0.013800     0.003600     2.757650   \n",
      "75%    116.539150     0.502375     0.016500     0.004100     3.295175   \n",
      "max    737.304800     0.509800     0.476600     0.104500    99.303200   \n",
      "\n",
      "               586          587          588          589    Pass/Fail  \n",
      "count  1566.000000  1566.000000  1566.000000  1566.000000  1567.000000  \n",
      "mean      0.021458     0.016475     0.005283    99.670066    -0.867262  \n",
      "std       0.012358     0.008808     0.002867    93.891919     0.498010  \n",
      "min      -0.016900     0.003200     0.001000     0.000000    -1.000000  \n",
      "25%       0.013425     0.010600     0.003300    44.368600    -1.000000  \n",
      "50%       0.020500     0.014800     0.004600    71.900500    -1.000000  \n",
      "75%       0.027600     0.020300     0.006400   114.749700    -1.000000  \n",
      "max       0.102800     0.079900     0.028600   737.304800     1.000000  \n",
      "\n",
      "[8 rows x 591 columns]\n",
      "Column names: Index(['Time', '0', '1', '2', '3', '4', '5', '6', '7', '8',\n",
      "       ...\n",
      "       '581', '582', '583', '584', '585', '586', '587', '588', '589',\n",
      "       'Pass/Fail'],\n",
      "      dtype='object', length=592)\n"
     ]
    }
   ],
   "source": [
    "df = pd.read_csv(\"sensor-data.csv\")\n",
    "print(df.info())\n",
    "print(df.describe())\n",
    "\n",
    "# Print column names to verify the target column\n",
    "print(\"Column names:\", df.columns)\n",
    "\n",
    "# Strip any extra spaces from column names\n",
    "df.columns = df.columns.str.strip()\n",
    "\n",
    "# Drop 'Time' column if present\n",
    "if \"Time\" in df.columns:\n",
    "    df = df.drop(columns=[\"Time\"])\n",
    "\n",
    "# Identify the correct target column\n",
    "target_col = \"Pass/Fail\"\n",
    "if target_col not in df.columns:\n",
    "    raise KeyError(f\"Target column '{target_col}' not found! Check column names: {df.columns}\")"
   ]
  },
  {
   "cell_type": "markdown",
   "id": "8a49ff58-0a3c-42c8-b243-4596f22e21b6",
   "metadata": {},
   "source": [
    "### Missing Value Treatment"
   ]
  },
  {
   "cell_type": "code",
   "execution_count": 8,
   "id": "6a5d982d-a6d8-4058-89b7-49f35d88a7ea",
   "metadata": {},
   "outputs": [
    {
     "name": "stdout",
     "output_type": "stream",
     "text": [
      "0       6\n",
      "1       7\n",
      "2      14\n",
      "3      14\n",
      "4      14\n",
      "       ..\n",
      "585     1\n",
      "586     1\n",
      "587     1\n",
      "588     1\n",
      "589     1\n",
      "Length: 538, dtype: int64\n"
     ]
    }
   ],
   "source": [
    "# Check for missing values\n",
    "missing_values = df.isnull().sum()\n",
    "print(missing_values[missing_values > 0])\n",
    "\n",
    "# Handle missing values \n",
    "df = df.dropna(axis=1) "
   ]
  },
  {
   "cell_type": "markdown",
   "id": "280edf5e-cde1-4023-ac61-1f80ff5bb2ca",
   "metadata": {},
   "source": [
    "### Data Preprocessing"
   ]
  },
  {
   "cell_type": "code",
   "execution_count": 10,
   "id": "26c0d6c7-4bcd-4900-a2e6-e876907b1cc3",
   "metadata": {},
   "outputs": [],
   "source": [
    "# Separate features and target\n",
    "y = df[target_col]  # Target column\n",
    "X = df.drop(columns=[target_col])  \n",
    "\n",
    "# Balance the target variable using SMOTE\n",
    "smote = SMOTE()\n",
    "X_resampled, y_resampled = smote.fit_resample(X, y)"
   ]
  },
  {
   "cell_type": "markdown",
   "id": "4993ac50-0e16-4ab4-ada5-73de42c2c6db",
   "metadata": {},
   "source": [
    "### Model training and testing "
   ]
  },
  {
   "cell_type": "code",
   "execution_count": null,
   "id": "cbfbfe7d-de23-42c6-ab0f-01c25bdf0887",
   "metadata": {},
   "outputs": [
    {
     "name": "stdout",
     "output_type": "stream",
     "text": [
      "\n",
      "Random Forest Model Performance:\n",
      "              precision    recall  f1-score   support\n",
      "\n",
      "          -1       0.99      0.94      0.96       306\n",
      "           1       0.94      0.99      0.96       280\n",
      "\n",
      "    accuracy                           0.96       586\n",
      "   macro avg       0.96      0.97      0.96       586\n",
      "weighted avg       0.97      0.96      0.96       586\n",
      "\n",
      "Accuracy: 0.9641638225255973\n",
      "\n",
      "SVM Model Performance:\n",
      "              precision    recall  f1-score   support\n",
      "\n",
      "          -1       0.99      0.75      0.86       306\n",
      "           1       0.79      0.99      0.88       280\n",
      "\n",
      "    accuracy                           0.87       586\n",
      "   macro avg       0.89      0.87      0.87       586\n",
      "weighted avg       0.89      0.87      0.87       586\n",
      "\n",
      "Accuracy: 0.8668941979522184\n",
      "\n",
      "Naive Bayes Model Performance:\n",
      "              precision    recall  f1-score   support\n",
      "\n",
      "          -1       0.75      0.13      0.23       306\n",
      "           1       0.50      0.95      0.66       280\n",
      "\n",
      "    accuracy                           0.52       586\n",
      "   macro avg       0.62      0.54      0.44       586\n",
      "weighted avg       0.63      0.52      0.43       586\n",
      "\n",
      "Accuracy: 0.5238907849829352\n"
     ]
    }
   ],
   "source": [
    "# Split data into training and test sets\n",
    "X_train, X_test, y_train, y_test = train_test_split(X_resampled, y_resampled, test_size=0.2, random_state=42)\n",
    "\n",
    "# Standardize features\n",
    "scaler = StandardScaler()\n",
    "X_train = scaler.fit_transform(X_train)\n",
    "X_test = scaler.transform(X_test)\n",
    "\n",
    "# Define models\n",
    "models = {\n",
    "    \"Random Forest\": RandomForestClassifier(),\n",
    "    \"SVM\": SVC(),\n",
    "    \"Naive Bayes\": GaussianNB()\n",
    "}\n",
    "\n",
    "# Train and evaluate models\n",
    "for name, model in models.items():\n",
    "    model.fit(X_train, y_train)\n",
    "    y_pred = model.predict(X_test)\n",
    "    print(f\"\\n{name} Model Performance:\")\n",
    "    print(classification_report(y_test, y_pred))\n",
    "    print(f\"Accuracy: {accuracy_score(y_test, y_pred)}\")\n",
    "\n",
    "# Hyperparameter tuning for the best model (example: Random Forest)\n",
    "param_grid = {\n",
    "    'n_estimators': [50, 100, 200],\n",
    "    'max_depth': [10, 20, None],\n",
    "    'min_samples_split': [2, 5, 10]\n",
    "}\n",
    "grid_search = GridSearchCV(RandomForestClassifier(), param_grid, cv=5, scoring='accuracy')\n",
    "grid_search.fit(X_train, y_train)\n",
    "print(\"\\nBest Parameters for Random Forest:\", grid_search.best_params_)\n",
    "\n",
    "# Final model training with best parameters\n",
    "best_model = RandomForestClassifier(**grid_search.best_params_)\n",
    "best_model.fit(X_train, y_train)\n",
    "\n",
    "# Save the model\n",
    "joblib.dump(best_model, \"best_model.pkl\")\n",
    "\n",
    "print(\"\\nFinal model saved as best_model.pkl\")"
   ]
  },
  {
   "cell_type": "markdown",
   "id": "472f003a-f431-41db-9000-66760241db7a",
   "metadata": {},
   "source": [
    "### Conclusion"
   ]
  },
  {
   "cell_type": "markdown",
   "id": "d04981ad-781f-4ac0-8908-d6f31df2f277",
   "metadata": {},
   "source": [
    "#####   \n",
    "The implementation successfully preprocessed the semiconductor sensor data by handling missing values, balancing the dataset using SMOTE, and applying feature scaling. Three machine learning models—Random Forest, SVM, and Naive Bayes—were trained and evaluated, with performance measured using classification reports and accuracy scores. Hyperparameter tuning was conducted on the Random Forest model, identifying the best parameters for improved classification accuracy. The final optimized model was saved for future predictions, ensuring a robust approach for semiconductor yield classification."
   ]
  },
  {
   "cell_type": "code",
   "execution_count": null,
   "id": "3525de59-98f7-453e-8f67-8bfa9cf37a2c",
   "metadata": {},
   "outputs": [],
   "source": []
  }
 ],
 "metadata": {
  "kernelspec": {
   "display_name": "Python 3 (ipykernel)",
   "language": "python",
   "name": "python3"
  },
  "language_info": {
   "codemirror_mode": {
    "name": "ipython",
    "version": 3
   },
   "file_extension": ".py",
   "mimetype": "text/x-python",
   "name": "python",
   "nbconvert_exporter": "python",
   "pygments_lexer": "ipython3",
   "version": "3.12.2"
  }
 },
 "nbformat": 4,
 "nbformat_minor": 5
}
